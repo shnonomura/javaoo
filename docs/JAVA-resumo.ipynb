{
 "cells": [
  {
   "cell_type": "markdown",
   "metadata": {},
   "source": [
    "# Java - Como Programar\n",
    "\n",
    "```\n",
    "Está página objetiva ser um local de consulta e uma forma de você consultá-la para sedimentar seus conhecimentos!\n",
    "Espero que ajude. :)\n",
    "```"
   ]
  },
  {
   "cell_type": "markdown",
   "metadata": {},
   "source": [
    "## Conselhos importantes\n",
    "\n",
    "* A rica coleção de classes e métodos fornecidos pela JAVA API encontra-se no http://docs.oracle.com/javase/8/docs/api/\n",
    "* Não reinvente a roda. Quando possível, reutilize as classes e métodos na Java API. Isso reduz tempo de desenvolvimento e evitas erros.\n",
    "* Classes e métodos ajudam a modularizar um programa separando suas tarefas em unidades autocontidas. Portanto, modularize. Esta abordagem consiste em _ _dividir para conquistar_ _.\n",
    "* Para promover a capacidade de reutilização de software, __TODOS OS MÉTODOS__ devem estar limitados à ```realização de um ÚNICA tarefa```. Uma método que realiza uma ÙNICA tarefa é mais fácil de testar e depurar."
   ]
  },
  {
   "cell_type": "markdown",
   "metadata": {},
   "source": [
    "## Conceitos importantes\n",
    "\n",
    "* Bibliotecas de classes Java ou API (application program interface) Java são métodos e classes javas predefinidas.\n"
   ]
  },
  {
   "cell_type": "markdown",
   "metadata": {},
   "source": [
    "## Capítulo 6 - Métodos - um examo mais profundo\n",
    "\n",
    "* ```Métodos Static``` são métodos que podem ser chamados sem que um objeto da classe precise existir.\n",
    "* Ao desenvolver aplicativos, boa parte das classes terá mais de um método com o mesmo nome. Essa técnica é chamada ```sobrecarregamento```.\n",
    "* A ```técnica de sobrecarregamento``` é utilizada para implementar os métodos que realizam tarefas semelhantes para argumentos de tipos diferentes __OU__ para diferentes números de argumentos. \n",
    "\n",
    "* Classes relacionadas são agrupadas em __PACOTES__ de modo que possam importadas nos programas e reutilizadas. "
   ]
  },
  {
   "cell_type": "markdown",
   "metadata": {},
   "source": [
    "## Capítulo 8 - Classes e Objetos - um exame profundo\n",
    "\n",
    "\n",
    "* __um arquivo de código-fonte (.java)__ pode ter MAIS de uma classe.\n",
    "\n",
    "\n",
    "* __QUANDO um arquivo de código-fonte (.java) contém múltiplas declarações de classe__, o COMPILADOR insere todos os arquivos de classe no ```MESMO DIRETÓRIO``` para essas classes.\n",
    "\n",
    "\n",
    "* um arquivo de código-fonte (.java) pode conter __SOMENTE uma classe Public__, senão ocorrerá erro de compilação.\n",
    "\n",
    "\n",
    "* as __CLASSES NÃO-PUBLIC__ só podem ser utilizadas no ```mesmo pacote por outras classes```.\n",
    "\n",
    "\n",
    "* Um __PACOTE__ é formado por classes agrupadas, predefinidas e relacionadas - vide seção 21.4.10\n",
    "\n"
   ]
  },
  {
   "cell_type": "markdown",
   "metadata": {},
   "source": [
    "### Fontes de Referências\n",
    "\n",
    "* Java: Como programar - 10a edição - Paul Deitel e Harvei Deitel - Editora Pearson"
   ]
  },
  {
   "cell_type": "code",
   "execution_count": null,
   "metadata": {},
   "outputs": [],
   "source": []
  }
 ],
 "metadata": {
  "kernelspec": {
   "display_name": "Python 3",
   "language": "python",
   "name": "python3"
  },
  "language_info": {
   "codemirror_mode": {
    "name": "ipython",
    "version": 3
   },
   "file_extension": ".py",
   "mimetype": "text/x-python",
   "name": "python",
   "nbconvert_exporter": "python",
   "pygments_lexer": "ipython3",
   "version": "3.7.1"
  }
 },
 "nbformat": 4,
 "nbformat_minor": 2
}
