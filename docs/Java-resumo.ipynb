{
 "cells": [
  {
   "cell_type": "markdown",
   "metadata": {},
   "source": [
    "# Java - Como Programar\n",
    "\n",
    "```\n",
    "Está página objetiva ser um local de consulta e uma forma de você consultá-la para sedimentar seus conhecimentos!\n",
    "Espero que ajude. :)\n",
    "```"
   ]
  },
  {
   "cell_type": "markdown",
   "metadata": {},
   "source": [
    "## Conselhos importantes\n",
    "\n",
    "* A rica coleção de classes e métodos fornecidos pela JAVA API encontra-se no http://docs.oracle.com/javase/8/docs/api/\n",
    "* Não reinvente a roda. Quando possível, reutilize as classes e métodos na Java API. Isso reduz tempo de desenvolvimento e evitas erros.\n",
    "* Classes e métodos ajudam a modularizar um programa separando suas tarefas em unidades autocontidas. Portanto, modularize. Esta abordagem consiste em _ _dividir para conquistar_ _.\n",
    "* Para promover a capacidade de reutilização de software, __TODOS OS MÉTODOS__ devem estar limitados à ```realização de um ÚNICA tarefa```. Uma método que realiza uma ÙNICA tarefa é mais fácil de testar e depurar.\n",
    "* Se não puder escolher um nome conciso que expresse a tarefa de um método, seu método talvez tente realizar tarefas em demasia. Divida esse método em vários menores.\n",
    "* Ao chamar um método que retorna um valor, certifique-se de verificar o valor de retorno deste método. Se não for bem-sucedido, lide com a questão de forma adequada."
   ]
  },
  {
   "cell_type": "markdown",
   "metadata": {},
   "source": [
    "## Conceitos importantes\n",
    "\n",
    "* ```Bibliotecas de classes Java ou API (application program interface) Java``` são métodos e classes javas predefinidas.\n",
    "* ```Variáveis de classe ou static``` são variáveis as quais TODOS os objetos dessa classe *compartilham* uma cópia dessas variávies.\n",
    "* ```Campos``` são todas as variáveis *static* de uma classe e de variáveis de  *instância* (variáveis objeto).\n",
    "* ```Qualquer campo declarado com a palavra-chave *final*``` é constante, isto é, seu valor NÃO pode ser alterado depois que o campo é *inicializado*. \n"
   ]
  },
  {
   "cell_type": "markdown",
   "metadata": {},
   "source": [
    "## Capítulo 6 - Métodos - um exame mais profundo\n",
    "\n",
    "* ```Métodos Static``` são métodos que podem ser chamados sem que um objeto da classe precise existir. Ela se aplica à __TODA__ classe, tanto é, que é denominada de ```método de classe```, também.\n",
    "* Ao desenvolver aplicativos, boa parte das classes terá mais de um método com o mesmo nome. Essa técnica é chamada ```sobrecarregamento```. \n",
    "* A __técnica de sobrecarregamento__ é utilizada para implementar os métodos que realizam tarefas semelhantes para argumentos de tipos diferentes __OU__ para diferentes números de argumentos. \n",
    "\n",
    "* Classes relacionadas são agrupadas em __PACOTES__ de modo que possam importadas nos programas e reutilizadas.\n",
    "* Para declarar um método como *static*, coloque a palavra-chave static antes do tipo de retorno na declaração do método.\n",
    "* Para qualquer classe importada para o programa, você pode chamar os __métodos static__:\n",
    "```especificando o nome da classe onde o método é declarado seguido por um ponto (.) E o nome do método.```\n",
    "> *NomeDaClasse.nomeDoMétodo (argumentos)*\n",
    "* __Campos static__ são acessados informando o nome da classe seguido de um ponto separador (.).\n",
    "> *NomeDaClasse.nomeDoCampoStatic* \n",
    "### *continuar da página 161 - porque o método main é declarado static*"
   ]
  },
  {
   "cell_type": "markdown",
   "metadata": {},
   "source": [
    "## Capítulo 8 - Classes e Objetos - um exame profundo\n",
    "\n",
    "\n",
    "* __um arquivo de código-fonte (.java)__ pode ter MAIS de uma classe.\n",
    "\n",
    "\n",
    "* __QUANDO um arquivo de código-fonte (.java) contém múltiplas declarações de classe__, o COMPILADOR insere todos os arquivos de classe no ```MESMO DIRETÓRIO``` para essas classes.\n",
    "\n",
    "\n",
    "* um arquivo de código-fonte (.java) pode conter __SOMENTE uma classe Public__, senão ocorrerá erro de compilação.\n",
    "\n",
    "\n",
    "* as __CLASSES NÃO-PUBLIC__ só podem ser utilizadas no ```mesmo pacote por outras classes```.\n",
    "\n",
    "\n",
    "* Um __PACOTE__ é formado por classes agrupadas, predefinidas e relacionadas - vide seção 21.4.10\n",
    "\n"
   ]
  },
  {
   "cell_type": "markdown",
   "metadata": {},
   "source": [
    "### Fontes de Referências\n",
    "\n",
    "* Java: Como programar - 10a edição - Paul Deitel e Harvei Deitel - Editora Pearson"
   ]
  },
  {
   "cell_type": "code",
   "execution_count": null,
   "metadata": {},
   "outputs": [],
   "source": []
  }
 ],
 "metadata": {
  "kernelspec": {
   "display_name": "Python 3",
   "language": "python",
   "name": "python3"
  },
  "language_info": {
   "codemirror_mode": {
    "name": "ipython",
    "version": 3
   },
   "file_extension": ".py",
   "mimetype": "text/x-python",
   "name": "python",
   "nbconvert_exporter": "python",
   "pygments_lexer": "ipython3",
   "version": "3.7.1"
  }
 },
 "nbformat": 4,
 "nbformat_minor": 2
}
