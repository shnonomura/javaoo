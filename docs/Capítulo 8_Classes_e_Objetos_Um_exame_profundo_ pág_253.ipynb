{
 "cells": [
  {
   "cell_type": "markdown",
   "metadata": {},
   "source": [
    "# Java - Como Programar\n",
    "fonte 1: Java: Como programar - 10a edição - Paul Deitel e Harvei Deitel - Pearson\n",
    "\n",
    "Está página objetiva ser um local de consulta e uma forma de você consultá-la para sedimentar seus conhecimentos! Espero que ajude. :)"
   ]
  },
  {
   "cell_type": "markdown",
   "metadata": {},
   "source": [
    "# Conceitos importantes\n",
    "fonte 1\n",
    "\n",
    ">1. Bibliotecas de classes Java ou API (application program interface) Java são métodos e classes javas predefinidas."
   ]
  },
  {
   "cell_type": "markdown",
   "metadata": {},
   "source": [
    "# Capítulo 6 - Métodos - um examo mais profundo\n",
    "fonte 1\n",
    "\n",
    "\n"
   ]
  },
  {
   "cell_type": "markdown",
   "metadata": {},
   "source": [
    "# Capítulo 8 - Classes e Objetos - um exame profundo\n",
    "fonte 1\n",
    "\n",
    "> 1. um arquivo de código-fonte (.java) pode ter MAIS de uma classe.\n",
    ">\n",
    ">2. QUANDO um arquivo de código-fonte (.java) contém múltiplas declarações de classe, o COMPILADOR insere todos os arquivos >de classe no MESMO DIRETÓRIO para essas classes.\n",
    ">\n",
    ">3. um arquivo de código-fonte (.java) pode conter SOMENTE uma classe Public, senão ocorrerá erro de compilação.\n",
    ">\n",
    ">4. as CLASSES NÃO-PUBLIC só podem ser utilizadas no mesmo pacote por outras classes.\n",
    ">\n",
    ">5. Um PACOTE é formado por classes agrupadas, predefinidas e relacionadas - vide seção 21.4.10\n",
    "\n"
   ]
  },
  {
   "cell_type": "code",
   "execution_count": null,
   "metadata": {},
   "outputs": [],
   "source": []
  }
 ],
 "metadata": {
  "kernelspec": {
   "display_name": "Python 3",
   "language": "python",
   "name": "python3"
  },
  "language_info": {
   "codemirror_mode": {
    "name": "ipython",
    "version": 3
   },
   "file_extension": ".py",
   "mimetype": "text/x-python",
   "name": "python",
   "nbconvert_exporter": "python",
   "pygments_lexer": "ipython3",
   "version": "3.7.1"
  }
 },
 "nbformat": 4,
 "nbformat_minor": 2
}
